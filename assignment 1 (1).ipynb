{
 "cells": [
  {
   "cell_type": "markdown",
   "id": "048f64f3-facf-47ab-afc3-683c30b842d6",
   "metadata": {},
   "source": [
    "Question 1"
   ]
  },
  {
   "cell_type": "markdown",
   "id": "7d056b55-6b62-4760-8a1c-1387994dba4c",
   "metadata": {},
   "source": [
    "i"
   ]
  },
  {
   "cell_type": "code",
   "execution_count": 2,
   "id": "adc0084d-37b6-46ac-836a-3bfb3e234919",
   "metadata": {},
   "outputs": [],
   "source": [
    "s='pwskills'"
   ]
  },
  {
   "cell_type": "code",
   "execution_count": 3,
   "id": "3a0fa9df-dc83-4ab0-8584-5ae22a231f5e",
   "metadata": {},
   "outputs": [
    {
     "data": {
      "text/plain": [
       "str"
      ]
     },
     "execution_count": 3,
     "metadata": {},
     "output_type": "execute_result"
    }
   ],
   "source": [
    "type(s)"
   ]
  },
  {
   "cell_type": "markdown",
   "id": "3cb2f789-59b1-4352-8803-5eca0949f35d",
   "metadata": {},
   "source": [
    "ii"
   ]
  },
  {
   "cell_type": "code",
   "execution_count": 4,
   "id": "9d252538-5bc5-4695-930f-2ea121cf6ce9",
   "metadata": {},
   "outputs": [],
   "source": [
    "l=['pwskill',34,54.445,True]"
   ]
  },
  {
   "cell_type": "code",
   "execution_count": 5,
   "id": "ac6015ed-bb06-4659-a5b7-d1e390a15432",
   "metadata": {},
   "outputs": [
    {
     "data": {
      "text/plain": [
       "list"
      ]
     },
     "execution_count": 5,
     "metadata": {},
     "output_type": "execute_result"
    }
   ],
   "source": [
    "type(l)"
   ]
  },
  {
   "cell_type": "markdown",
   "id": "e8470628-ac16-4cf5-bb31-09d44e7256f0",
   "metadata": {},
   "source": [
    "iii"
   ]
  },
  {
   "cell_type": "code",
   "execution_count": 6,
   "id": "4d2fd35d-405a-4e02-86e9-068781f33eae",
   "metadata": {},
   "outputs": [],
   "source": [
    "f=67.98"
   ]
  },
  {
   "cell_type": "code",
   "execution_count": 7,
   "id": "5b9d87e4-b5b1-4bda-87d5-42f57f0951c6",
   "metadata": {},
   "outputs": [
    {
     "data": {
      "text/plain": [
       "float"
      ]
     },
     "execution_count": 7,
     "metadata": {},
     "output_type": "execute_result"
    }
   ],
   "source": [
    "type(f)"
   ]
  },
  {
   "cell_type": "markdown",
   "id": "acc51e9c-1d46-4281-8c92-7422fc9719b9",
   "metadata": {},
   "source": [
    "iv"
   ]
  },
  {
   "cell_type": "code",
   "execution_count": 8,
   "id": "dec180da-6556-4933-b557-27c393195c09",
   "metadata": {},
   "outputs": [],
   "source": [
    "t=('pw skill',\"school\",43,54.345,False)"
   ]
  },
  {
   "cell_type": "code",
   "execution_count": 9,
   "id": "19f291a8-487a-4d2b-81ce-ad2c66acc36f",
   "metadata": {},
   "outputs": [
    {
     "data": {
      "text/plain": [
       "tuple"
      ]
     },
     "execution_count": 9,
     "metadata": {},
     "output_type": "execute_result"
    }
   ],
   "source": [
    "type(t)"
   ]
  },
  {
   "cell_type": "markdown",
   "id": "bf046b47-fe6f-4f53-a994-7ab3fa90a546",
   "metadata": {},
   "source": [
    "Question 2"
   ]
  },
  {
   "cell_type": "markdown",
   "id": "93da31bf-51b8-4d8c-b7c7-258ac6c710c0",
   "metadata": {},
   "source": [
    "i"
   ]
  },
  {
   "cell_type": "code",
   "execution_count": 10,
   "id": "608ba373-cf2f-4162-8603-11bd15e2e2c7",
   "metadata": {},
   "outputs": [],
   "source": [
    "var1=''"
   ]
  },
  {
   "cell_type": "code",
   "execution_count": 11,
   "id": "d0fe3b3b-3dc8-46ac-bde7-e62919b0744e",
   "metadata": {},
   "outputs": [
    {
     "data": {
      "text/plain": [
       "str"
      ]
     },
     "execution_count": 11,
     "metadata": {},
     "output_type": "execute_result"
    }
   ],
   "source": [
    "type(var1)"
   ]
  },
  {
   "cell_type": "markdown",
   "id": "37bfffc6-4451-4b6d-8a38-ff7ea1299dd7",
   "metadata": {},
   "source": [
    "ii"
   ]
  },
  {
   "cell_type": "code",
   "execution_count": 12,
   "id": "a67e9b15-673c-4460-8b72-a757e7ced955",
   "metadata": {},
   "outputs": [],
   "source": [
    "var2='[DS,ML,Python]'"
   ]
  },
  {
   "cell_type": "code",
   "execution_count": 13,
   "id": "9d2f0c5e-5027-46da-b699-ef0b911d7569",
   "metadata": {},
   "outputs": [
    {
     "data": {
      "text/plain": [
       "str"
      ]
     },
     "execution_count": 13,
     "metadata": {},
     "output_type": "execute_result"
    }
   ],
   "source": [
    "type(var2)"
   ]
  },
  {
   "cell_type": "markdown",
   "id": "56bde52d-31fa-4653-9a22-8f76a60a0528",
   "metadata": {},
   "source": [
    "iii"
   ]
  },
  {
   "cell_type": "code",
   "execution_count": 14,
   "id": "35a678ec-093d-4710-b318-f963af08460b",
   "metadata": {},
   "outputs": [],
   "source": [
    "var3=['DS','ML','Python']"
   ]
  },
  {
   "cell_type": "code",
   "execution_count": 15,
   "id": "d0161f23-af85-4caa-ba7a-e3e2d68b944b",
   "metadata": {},
   "outputs": [
    {
     "data": {
      "text/plain": [
       "list"
      ]
     },
     "execution_count": 15,
     "metadata": {},
     "output_type": "execute_result"
    }
   ],
   "source": [
    "type(var3)"
   ]
  },
  {
   "cell_type": "markdown",
   "id": "10e5925b-0707-4534-8cbf-596918c4cf9b",
   "metadata": {},
   "source": [
    "iv"
   ]
  },
  {
   "cell_type": "code",
   "execution_count": 16,
   "id": "fbc53bac-cbb1-4e33-944b-e1ffd6c1e208",
   "metadata": {},
   "outputs": [],
   "source": [
    "var4=1."
   ]
  },
  {
   "cell_type": "code",
   "execution_count": 17,
   "id": "e3882fb5-5482-47ba-a259-177716fac9b4",
   "metadata": {},
   "outputs": [
    {
     "data": {
      "text/plain": [
       "float"
      ]
     },
     "execution_count": 17,
     "metadata": {},
     "output_type": "execute_result"
    }
   ],
   "source": [
    "type(var4)"
   ]
  },
  {
   "cell_type": "markdown",
   "id": "5464d7b8-891a-43dc-9924-197dc7535d62",
   "metadata": {},
   "source": [
    "Question 3"
   ]
  },
  {
   "cell_type": "markdown",
   "id": "64ac097e-f9f1-44ca-9378-cca93993d2ac",
   "metadata": {},
   "source": [
    "i"
   ]
  },
  {
   "cell_type": "code",
   "execution_count": 18,
   "id": "cb3ff5b5-af14-432d-b865-2ac024c12092",
   "metadata": {},
   "outputs": [
    {
     "data": {
      "text/plain": [
       "2.5"
      ]
     },
     "execution_count": 18,
     "metadata": {},
     "output_type": "execute_result"
    }
   ],
   "source": [
    "\"\"\"modules \"\"\"\n",
    "5/2"
   ]
  },
  {
   "cell_type": "markdown",
   "id": "5c8f3a4d-7ef9-4a60-aba1-957a9bbb9a2b",
   "metadata": {},
   "source": [
    "ii"
   ]
  },
  {
   "cell_type": "code",
   "execution_count": 19,
   "id": "5b1f9da4-6507-4c4e-8f58-6741c70e4da9",
   "metadata": {},
   "outputs": [
    {
     "data": {
      "text/plain": [
       "1"
      ]
     },
     "execution_count": 19,
     "metadata": {},
     "output_type": "execute_result"
    }
   ],
   "source": [
    "\"\"\"give reminder\"\"\"\n",
    "5%2"
   ]
  },
  {
   "cell_type": "markdown",
   "id": "c70eeace-d306-4d92-91e8-5cf287fb9eb3",
   "metadata": {},
   "source": [
    "iii"
   ]
  },
  {
   "cell_type": "code",
   "execution_count": 20,
   "id": "f4e58f68-8d4f-4ac5-b0f2-7f424fee5fb7",
   "metadata": {},
   "outputs": [
    {
     "data": {
      "text/plain": [
       "2"
      ]
     },
     "execution_count": 20,
     "metadata": {},
     "output_type": "execute_result"
    }
   ],
   "source": [
    "\"\"\"flore value\"\"\"\n",
    "5//2"
   ]
  },
  {
   "cell_type": "markdown",
   "id": "4cdb4c72-7f9e-4317-a924-b0433d81bdfa",
   "metadata": {},
   "source": [
    "iv"
   ]
  },
  {
   "cell_type": "code",
   "execution_count": 21,
   "id": "8e0fafe5-fadc-40cb-a672-d7cf832636e6",
   "metadata": {},
   "outputs": [
    {
     "data": {
      "text/plain": [
       "25"
      ]
     },
     "execution_count": 21,
     "metadata": {},
     "output_type": "execute_result"
    }
   ],
   "source": [
    "\"\"\"exponent\"\"\"\n",
    "5**2"
   ]
  },
  {
   "cell_type": "markdown",
   "id": "c3d8bbcc-253e-45cf-a032-40e20a1005b8",
   "metadata": {},
   "source": [
    "Question 4"
   ]
  },
  {
   "cell_type": "code",
   "execution_count": 22,
   "id": "4d15f3af-f086-42e1-96b8-3fd8b565cf36",
   "metadata": {},
   "outputs": [],
   "source": [
    "l=[23,89,45.456,\"pwskill\",True,4+5j,False,\"khushi\",345.678,\"sudh\"]"
   ]
  },
  {
   "cell_type": "code",
   "execution_count": 25,
   "id": "8083915c-e27c-4d50-b993-54d02a0db797",
   "metadata": {},
   "outputs": [
    {
     "name": "stdout",
     "output_type": "stream",
     "text": [
      "23 <class 'int'>\n",
      "89 <class 'int'>\n",
      "45.456 <class 'float'>\n",
      "pwskill <class 'str'>\n",
      "True <class 'bool'>\n",
      "(4+5j) <class 'complex'>\n",
      "False <class 'bool'>\n",
      "khushi <class 'str'>\n",
      "345.678 <class 'float'>\n",
      "sudh <class 'str'>\n"
     ]
    }
   ],
   "source": [
    "for i in l:\n",
    "    print(i,type(i))"
   ]
  },
  {
   "cell_type": "markdown",
   "id": "1ebbf6c9-44bc-4c01-b64b-4ed5433835f4",
   "metadata": {},
   "source": [
    "Question 5"
   ]
  },
  {
   "cell_type": "code",
   "execution_count": null,
   "id": "87bb540b-cbc5-4974-a8b4-4e287079a784",
   "metadata": {},
   "outputs": [],
   "source": [
    "a=10\n",
    "b=2\n",
    "n=0\n",
    "while a=b:\n",
    "    if a%b==0:\n",
    "        n++\n",
    "    \n",
    "    print(n)"
   ]
  },
  {
   "cell_type": "code",
   "execution_count": null,
   "id": "c208f87d-d8dd-443b-8e16-4c19fcc452cc",
   "metadata": {},
   "outputs": [],
   "source": []
  }
 ],
 "metadata": {
  "kernelspec": {
   "display_name": "Python 3 (ipykernel)",
   "language": "python",
   "name": "python3"
  },
  "language_info": {
   "codemirror_mode": {
    "name": "ipython",
    "version": 3
   },
   "file_extension": ".py",
   "mimetype": "text/x-python",
   "name": "python",
   "nbconvert_exporter": "python",
   "pygments_lexer": "ipython3",
   "version": "3.10.8"
  }
 },
 "nbformat": 4,
 "nbformat_minor": 5
}

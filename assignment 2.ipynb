{
 "cells": [
  {
   "cell_type": "markdown",
   "id": "ee487f44-f1c6-4843-86a5-225ef6cb3c71",
   "metadata": {},
   "source": [
    "Question 1"
   ]
  },
  {
   "cell_type": "markdown",
   "id": "1ac89984-76b2-4967-8591-96b1045e32fa",
   "metadata": {},
   "source": [
    "we can comment code in python by puting hash befor writting  comment .\n",
    "comment are two type single line comment and multiple line comment. single line comment is gven by putting hash befor sentence and multiple line comment by putting triple doubled comma.example:"
   ]
  },
  {
   "cell_type": "code",
   "execution_count": 1,
   "id": "4e08c9fe-7849-4964-8d22-d02b00d4b291",
   "metadata": {},
   "outputs": [],
   "source": [
    "# this is single line comment"
   ]
  },
  {
   "cell_type": "code",
   "execution_count": 2,
   "id": "16fe6388-89f4-4bad-b3a6-e392a1990751",
   "metadata": {},
   "outputs": [
    {
     "data": {
      "text/plain": [
       "' this is multiple line comment\\nexample'"
      ]
     },
     "execution_count": 2,
     "metadata": {},
     "output_type": "execute_result"
    }
   ],
   "source": [
    "\"\"\" this is multiple line comment\n",
    "example\"\"\""
   ]
  },
  {
   "cell_type": "markdown",
   "id": "c213d4f7-afc0-4f57-99c0-3bd8a60c1a17",
   "metadata": {},
   "source": [
    "Question 2"
   ]
  },
  {
   "cell_type": "markdown",
   "id": "c8e928fb-f7ae-49ca-bb11-681593911818",
   "metadata": {},
   "source": [
    "variables are reserve menory location for storing data.\n",
    "we declare variable by writing the name of variable and assign variable by putting 'equal to' sign after variable and write values.example:"
   ]
  },
  {
   "cell_type": "code",
   "execution_count": 4,
   "id": "c01fe748-6fa7-4855-9d33-7a5ca63b4af0",
   "metadata": {},
   "outputs": [],
   "source": [
    "a=23\n",
    "# her we declare and assign variable together "
   ]
  },
  {
   "cell_type": "code",
   "execution_count": 3,
   "id": "a777b973-c75d-4cdc-9110-9ef02205c08c",
   "metadata": {},
   "outputs": [
    {
     "data": {
      "text/plain": [
       "23"
      ]
     },
     "execution_count": 3,
     "metadata": {},
     "output_type": "execute_result"
    }
   ],
   "source": [
    "a"
   ]
  },
  {
   "cell_type": "markdown",
   "id": "94470d57-c60d-498e-a38a-d470d0ddbf0c",
   "metadata": {},
   "source": [
    "Question 3"
   ]
  },
  {
   "cell_type": "markdown",
   "id": "79886655-24a1-4a30-93c2-e6c53fb92eb4",
   "metadata": {},
   "source": [
    " when we want to convert  string data in integer data type we write"
   ]
  },
  {
   "cell_type": "code",
   "execution_count": 6,
   "id": "befee200-a1e0-4d74-87c3-abf4c58e5aae",
   "metadata": {},
   "outputs": [],
   "source": [
    "a=\"23\""
   ]
  },
  {
   "cell_type": "code",
   "execution_count": 7,
   "id": "cf233ba6-455a-4ab6-92d8-dc99473bb049",
   "metadata": {},
   "outputs": [
    {
     "data": {
      "text/plain": [
       "str"
      ]
     },
     "execution_count": 7,
     "metadata": {},
     "output_type": "execute_result"
    }
   ],
   "source": [
    "type(a)"
   ]
  },
  {
   "cell_type": "code",
   "execution_count": 8,
   "id": "83e35a85-3a6a-4601-b7bb-25e5e290ed96",
   "metadata": {},
   "outputs": [
    {
     "data": {
      "text/plain": [
       "23"
      ]
     },
     "execution_count": 8,
     "metadata": {},
     "output_type": "execute_result"
    }
   ],
   "source": [
    "int(a)"
   ]
  },
  {
   "cell_type": "code",
   "execution_count": 9,
   "id": "90e8ce47-6f21-47bb-8274-359052586a4b",
   "metadata": {},
   "outputs": [
    {
     "data": {
      "text/plain": [
       "int"
      ]
     },
     "execution_count": 9,
     "metadata": {},
     "output_type": "execute_result"
    }
   ],
   "source": [
    "type(int(a))"
   ]
  },
  {
   "cell_type": "markdown",
   "id": "d240f7cb-c901-490a-971f-49b047b59a02",
   "metadata": {},
   "source": [
    "we can do same way with other data type by puting the short name of that data type and then put the value in small bracket "
   ]
  },
  {
   "cell_type": "markdown",
   "id": "370e6799",
   "metadata": {},
   "source": [
    "Question 4"
   ]
  },
  {
   "cell_type": "markdown",
   "id": "b1ce9b73",
   "metadata": {},
   "source": [
    "we right command in comand cell and for execution we either press run or 'shift'+'enter'."
   ]
  },
  {
   "cell_type": "markdown",
   "id": "ac817cba-8466-4312-a891-26022abd42fe",
   "metadata": {},
   "source": [
    "Question 5"
   ]
  },
  {
   "cell_type": "code",
   "execution_count": 1,
   "id": "09bf2442",
   "metadata": {},
   "outputs": [],
   "source": [
    "my_list=[1,2,3,4,5]"
   ]
  },
  {
   "cell_type": "code",
   "execution_count": 3,
   "id": "995adccf",
   "metadata": {},
   "outputs": [
    {
     "data": {
      "text/plain": [
       "[2, 3]"
      ]
     },
     "execution_count": 3,
     "metadata": {},
     "output_type": "execute_result"
    }
   ],
   "source": [
    "sub_list=my_list[1:3]\n",
    "sub_list"
   ]
  },
  {
   "cell_type": "code",
   "execution_count": 4,
   "id": "dcf6250e",
   "metadata": {},
   "outputs": [
    {
     "data": {
      "text/plain": [
       "[2, 3]"
      ]
     },
     "execution_count": 4,
     "metadata": {},
     "output_type": "execute_result"
    }
   ],
   "source": [
    "sub_list"
   ]
  },
  {
   "cell_type": "markdown",
   "id": "feb81a52",
   "metadata": {},
   "source": [
    "Question 6"
   ]
  },
  {
   "cell_type": "markdown",
   "id": "ea76cae3",
   "metadata": {},
   "source": [
    "complex number is the set of real number and imaginari number.it is represented in python as 'j'.example: 5+4j"
   ]
  },
  {
   "cell_type": "code",
   "execution_count": 5,
   "id": "46646df4",
   "metadata": {},
   "outputs": [],
   "source": [
    "a=5+4j"
   ]
  },
  {
   "cell_type": "code",
   "execution_count": 6,
   "id": "3203b31f",
   "metadata": {},
   "outputs": [
    {
     "data": {
      "text/plain": [
       "complex"
      ]
     },
     "execution_count": 6,
     "metadata": {},
     "output_type": "execute_result"
    }
   ],
   "source": [
    "type(a)"
   ]
  },
  {
   "cell_type": "markdown",
   "id": "7ba0f6ae",
   "metadata": {},
   "source": [
    "Question 7"
   ]
  },
  {
   "cell_type": "code",
   "execution_count": 7,
   "id": "8c4985b4",
   "metadata": {},
   "outputs": [],
   "source": [
    "age=25"
   ]
  },
  {
   "cell_type": "markdown",
   "id": "096bf0d0",
   "metadata": {},
   "source": [
    "Question 8"
   ]
  },
  {
   "cell_type": "code",
   "execution_count": 9,
   "id": "d3f8e974",
   "metadata": {},
   "outputs": [],
   "source": [
    "price=9.99"
   ]
  },
  {
   "cell_type": "code",
   "execution_count": 10,
   "id": "5f213c6d",
   "metadata": {},
   "outputs": [
    {
     "data": {
      "text/plain": [
       "float"
      ]
     },
     "execution_count": 10,
     "metadata": {},
     "output_type": "execute_result"
    }
   ],
   "source": [
    "type(price)"
   ]
  },
  {
   "cell_type": "markdown",
   "id": "f816d553",
   "metadata": {},
   "source": [
    "it belong to float data type."
   ]
  },
  {
   "cell_type": "markdown",
   "id": "378d960b",
   "metadata": {},
   "source": [
    "Question 9"
   ]
  },
  {
   "cell_type": "code",
   "execution_count": 13,
   "id": "970cb0eb",
   "metadata": {},
   "outputs": [],
   "source": [
    "name=\"khushboo kumari\""
   ]
  },
  {
   "cell_type": "code",
   "execution_count": 17,
   "id": "7db01f72",
   "metadata": {},
   "outputs": [
    {
     "data": {
      "text/plain": [
       "'khushboo kumari'"
      ]
     },
     "execution_count": 17,
     "metadata": {},
     "output_type": "execute_result"
    }
   ],
   "source": [
    "name "
   ]
  },
  {
   "cell_type": "code",
   "execution_count": 18,
   "id": "db15a519",
   "metadata": {},
   "outputs": [
    {
     "name": "stdout",
     "output_type": "stream",
     "text": [
      "khushboo kumari\n"
     ]
    }
   ],
   "source": [
    "print(name)"
   ]
  },
  {
   "cell_type": "markdown",
   "id": "e434b721",
   "metadata": {},
   "source": [
    "Question 10"
   ]
  },
  {
   "cell_type": "code",
   "execution_count": 19,
   "id": "0b948f8c",
   "metadata": {},
   "outputs": [],
   "source": [
    "s=\"hellow, world!\""
   ]
  },
  {
   "cell_type": "code",
   "execution_count": 22,
   "id": "858441bc",
   "metadata": {},
   "outputs": [],
   "source": [
    "k=s[8:13]"
   ]
  },
  {
   "cell_type": "code",
   "execution_count": 23,
   "id": "d419afd1",
   "metadata": {},
   "outputs": [
    {
     "data": {
      "text/plain": [
       "'world'"
      ]
     },
     "execution_count": 23,
     "metadata": {},
     "output_type": "execute_result"
    }
   ],
   "source": [
    "k"
   ]
  },
  {
   "cell_type": "markdown",
   "id": "9c25c8a3",
   "metadata": {},
   "source": [
    "Question 11"
   ]
  },
  {
   "cell_type": "code",
   "execution_count": 24,
   "id": "ec6311b7",
   "metadata": {},
   "outputs": [],
   "source": [
    "is_student= True"
   ]
  },
  {
   "cell_type": "code",
   "execution_count": 25,
   "id": "eee8b21e",
   "metadata": {},
   "outputs": [
    {
     "data": {
      "text/plain": [
       "bool"
      ]
     },
     "execution_count": 25,
     "metadata": {},
     "output_type": "execute_result"
    }
   ],
   "source": [
    "type(is_student)"
   ]
  },
  {
   "cell_type": "code",
   "execution_count": null,
   "id": "3c57d3c7",
   "metadata": {},
   "outputs": [],
   "source": []
  }
 ],
 "metadata": {
  "kernelspec": {
   "display_name": "Python 3 (ipykernel)",
   "language": "python",
   "name": "python3"
  },
  "language_info": {
   "codemirror_mode": {
    "name": "ipython",
    "version": 3
   },
   "file_extension": ".py",
   "mimetype": "text/x-python",
   "name": "python",
   "nbconvert_exporter": "python",
   "pygments_lexer": "ipython3",
   "version": "3.10.9"
  }
 },
 "nbformat": 4,
 "nbformat_minor": 5
}

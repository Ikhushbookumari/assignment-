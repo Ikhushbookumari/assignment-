{
 "cells": [
  {
   "cell_type": "markdown",
   "id": "9e463376-ee43-4411-8044-d083fc8ca490",
   "metadata": {},
   "source": [
    "## Question 1"
   ]
  },
  {
   "cell_type": "code",
   "execution_count": 31,
   "id": "e2adfb87-5d24-41ea-bac3-8349df82ee5a",
   "metadata": {},
   "outputs": [],
   "source": [
    "class vehicle :\n",
    "    def __init__(self, name_of_vehicle,max_speed,average_of_vehicle):\n",
    "        self.name_of_vehicle =name_of_vehicle\n",
    "        self.max_speed = max_speed\n",
    "        self.average_of_vehicle = average_of_vehicle\n",
    "    "
   ]
  },
  {
   "cell_type": "markdown",
   "id": "1f082b3c-0351-4e31-9b7b-c2cf3e0580e5",
   "metadata": {},
   "source": [
    "## Question 2"
   ]
  },
  {
   "cell_type": "code",
   "execution_count": 32,
   "id": "fbfb1c0e-9dde-4e4b-b2be-99d3d8c7b480",
   "metadata": {},
   "outputs": [],
   "source": [
    "class car (vehicle):\n",
    "    \n",
    "    def seating_capacity(self, capacity):\n",
    "        self.capacity=capacity\n",
    "        return f\"name of the vehicle is {self.name_of_vehicle} and its seating capacith is {self.capacity}\"\n",
    "    "
   ]
  },
  {
   "cell_type": "code",
   "execution_count": 33,
   "id": "e32a62e9-2172-4e0c-8422-424025be5ad3",
   "metadata": {},
   "outputs": [],
   "source": [
    "my_car=car(\"suv\",230,15)"
   ]
  },
  {
   "cell_type": "code",
   "execution_count": 34,
   "id": "53b0ad3c-2a21-4f39-813b-34cbe7de006c",
   "metadata": {},
   "outputs": [
    {
     "data": {
      "text/plain": [
       "'name of the vehicle is suv and its seating capacith is 7'"
      ]
     },
     "execution_count": 34,
     "metadata": {},
     "output_type": "execute_result"
    }
   ],
   "source": [
    "my_car.seating_capacity(7)"
   ]
  },
  {
   "cell_type": "markdown",
   "id": "cc4daec1-86c8-4071-84b1-3487dc7797c2",
   "metadata": {},
   "source": [
    "## Question 3"
   ]
  },
  {
   "cell_type": "markdown",
   "id": "85f00a34-6066-43fe-9c12-1cf4c7885f88",
   "metadata": {},
   "source": [
    "Python, being an object-oriented programming language, supports multiple inheritance, which means a class can inherit from multiple parent classes. This feature enables developers to create complex class hierarchies and share functionalities across various classes."
   ]
  },
  {
   "cell_type": "code",
   "execution_count": 38,
   "id": "12a7a43f-d73c-4d2e-a7a7-61518855d4c4",
   "metadata": {},
   "outputs": [],
   "source": [
    "class class1:\n",
    "    def test_class1(self):\n",
    "        return \"this is  from class1\"\n",
    "    \n",
    "class class2(class1):\n",
    "    def test_class2(self):\n",
    "        return \"this is from class2\"\n",
    "    \n",
    "class class3(class2):\n",
    "    pass"
   ]
  },
  {
   "cell_type": "code",
   "execution_count": 41,
   "id": "970225fe-c26d-4d58-a153-7551e0a07823",
   "metadata": {},
   "outputs": [],
   "source": [
    "obj_c3 = class3()"
   ]
  },
  {
   "cell_type": "code",
   "execution_count": 42,
   "id": "b140aa6f-1832-42d1-aa35-bc4d85cf6902",
   "metadata": {},
   "outputs": [
    {
     "data": {
      "text/plain": [
       "'this is  from class1'"
      ]
     },
     "execution_count": 42,
     "metadata": {},
     "output_type": "execute_result"
    }
   ],
   "source": [
    "obj_c3.test_class1()"
   ]
  },
  {
   "cell_type": "code",
   "execution_count": 45,
   "id": "8263ec29-301c-4b73-a63a-c80dd34f79b6",
   "metadata": {},
   "outputs": [
    {
     "data": {
      "text/plain": [
       "'this is from class2'"
      ]
     },
     "execution_count": 45,
     "metadata": {},
     "output_type": "execute_result"
    }
   ],
   "source": [
    "obj_c3.test_class2()"
   ]
  },
  {
   "cell_type": "markdown",
   "id": "636e88cb-0e44-452d-9d79-794d8129332d",
   "metadata": {},
   "source": [
    "## Question 4"
   ]
  },
  {
   "cell_type": "markdown",
   "id": "47ee8c84-395b-4eea-b3dd-c3a93390abb3",
   "metadata": {},
   "source": [
    "Getter methods are used to retrieve the value of an attribute, while setter methods are used to modify the value of an attribute in a controlled manner. This process of controlling the properties of a class instance is kind of Encapsulating"
   ]
  },
  {
   "cell_type": "code",
   "execution_count": 87,
   "id": "4920ca44-60f2-45c5-bfec-b2c938ae9e4a",
   "metadata": {},
   "outputs": [],
   "source": [
    "class car :\n",
    "    def __init__(self, make , model , speed ):\n",
    "        self.make = make\n",
    "        self.model = model\n",
    "        self.speed = speed\n",
    "        \n",
    "    def set_speed(self,speed):\n",
    "        self.speed = 0 if speed<0 else speed\n",
    "        \n",
    "    def get_speed(self):\n",
    "        return self.speed"
   ]
  },
  {
   "cell_type": "code",
   "execution_count": 88,
   "id": "3f459769-8350-419c-ae8b-5902bcbd59a4",
   "metadata": {},
   "outputs": [],
   "source": [
    "my_c = car(234,\"suv\",80)"
   ]
  },
  {
   "cell_type": "code",
   "execution_count": 89,
   "id": "433a9182-5dce-4c0d-a0a5-0de216a7307a",
   "metadata": {},
   "outputs": [
    {
     "data": {
      "text/plain": [
       "80"
      ]
     },
     "execution_count": 89,
     "metadata": {},
     "output_type": "execute_result"
    }
   ],
   "source": [
    "my_c.get_speed()"
   ]
  },
  {
   "cell_type": "code",
   "execution_count": 90,
   "id": "ca2e3ba4-d872-4a8b-b029-554f1ba85270",
   "metadata": {},
   "outputs": [],
   "source": [
    "my_c.set_speed(78)"
   ]
  },
  {
   "cell_type": "code",
   "execution_count": 91,
   "id": "7d73cc53-0c80-4dc0-a87e-98b945b0c29e",
   "metadata": {},
   "outputs": [
    {
     "data": {
      "text/plain": [
       "78"
      ]
     },
     "execution_count": 91,
     "metadata": {},
     "output_type": "execute_result"
    }
   ],
   "source": [
    "my_c.get_speed()"
   ]
  },
  {
   "cell_type": "markdown",
   "id": "a9bfdbd0-e238-49fc-adab-f399d219e87b",
   "metadata": {},
   "source": [
    "## Question 5"
   ]
  },
  {
   "cell_type": "markdown",
   "id": "900836fe-1f59-4dad-900f-c32822d4d870",
   "metadata": {},
   "source": [
    "The overriding method allows a child class to provide a specific implementation of a method that is already provided by one of its parent classes."
   ]
  },
  {
   "cell_type": "code",
   "execution_count": 105,
   "id": "040d8665-6d98-49b0-b4dd-813fed495a96",
   "metadata": {},
   "outputs": [],
   "source": [
    "class employee:\n",
    "    def __init__(self, name, base_pay ,extra_earn):\n",
    "        self.name = name\n",
    "        self.base_pay = base_pay\n",
    "        self.bonas=extra_earn\n",
    "\n",
    "    def get_pay(self):\n",
    "        return self.base_pay"
   ]
  },
  {
   "cell_type": "code",
   "execution_count": 106,
   "id": "47c47faa-ac22-4d3c-a3f8-7490acd93917",
   "metadata": {},
   "outputs": [],
   "source": [
    "emp = employee(\"khushboo\",3500,5000)"
   ]
  },
  {
   "cell_type": "code",
   "execution_count": 107,
   "id": "9883f128-15f4-47bd-bdbe-d33bcdfce62b",
   "metadata": {},
   "outputs": [
    {
     "data": {
      "text/plain": [
       "3500"
      ]
     },
     "execution_count": 107,
     "metadata": {},
     "output_type": "execute_result"
    }
   ],
   "source": [
    "emp.get_pay()"
   ]
  },
  {
   "cell_type": "code",
   "execution_count": 110,
   "id": "06dc06c3-a3c3-4dc0-9328-95305a59305f",
   "metadata": {},
   "outputs": [
    {
     "ename": "TypeError",
     "evalue": "'int' object is not callable",
     "output_type": "error",
     "traceback": [
      "\u001b[0;31m---------------------------------------------------------------------------\u001b[0m",
      "\u001b[0;31mTypeError\u001b[0m                                 Traceback (most recent call last)",
      "Cell \u001b[0;32mIn[110], line 1\u001b[0m\n\u001b[0;32m----> 1\u001b[0m \u001b[43memp\u001b[49m\u001b[38;5;241;43m.\u001b[39;49m\u001b[43mbonas\u001b[49m\u001b[43m(\u001b[49m\u001b[43m)\u001b[49m\n",
      "\u001b[0;31mTypeError\u001b[0m: 'int' object is not callable"
     ]
    }
   ],
   "source": [
    "emp.bonas()"
   ]
  },
  {
   "cell_type": "code",
   "execution_count": null,
   "id": "5cd8081d-6eba-454f-b481-2ec943bcc4b9",
   "metadata": {},
   "outputs": [],
   "source": []
  }
 ],
 "metadata": {
  "kernelspec": {
   "display_name": "Python 3 (ipykernel)",
   "language": "python",
   "name": "python3"
  },
  "language_info": {
   "codemirror_mode": {
    "name": "ipython",
    "version": 3
   },
   "file_extension": ".py",
   "mimetype": "text/x-python",
   "name": "python",
   "nbconvert_exporter": "python",
   "pygments_lexer": "ipython3",
   "version": "3.10.8"
  }
 },
 "nbformat": 4,
 "nbformat_minor": 5
}

{
 "cells": [
  {
   "cell_type": "markdown",
   "id": "82e7230e-e730-4f72-bd7c-fab21a07397e",
   "metadata": {},
   "source": [
    "## Question 1"
   ]
  },
  {
   "cell_type": "markdown",
   "id": "9e1a93ce-1891-440b-9037-817421f77825",
   "metadata": {},
   "source": [
    "A class is a user-defined blueprint or prototype from which objects are created. Classes provide a means of bundling data and functionality together. Creating a new class creates a new type of object, allowing new instances of that type to be made. Each class instance can have attributes attached to it to maintain its state."
   ]
  },
  {
   "cell_type": "markdown",
   "id": "460381e9-cc45-4069-8087-e40af16db9f3",
   "metadata": {},
   "source": [
    "class define:"
   ]
  },
  {
   "cell_type": "code",
   "execution_count": 1,
   "id": "6a056c17-c767-469d-a2eb-dd5abd556198",
   "metadata": {},
   "outputs": [],
   "source": [
    "class place():\n",
    "    \n",
    "    city =\" Patna\"\n",
    "    "
   ]
  },
  {
   "cell_type": "markdown",
   "id": "04c647b5-1692-48d7-b46d-1a74be41a88a",
   "metadata": {},
   "source": [
    "obj define:"
   ]
  },
  {
   "cell_type": "code",
   "execution_count": 2,
   "id": "38278de6-d241-4bde-abac-321f25b2a347",
   "metadata": {},
   "outputs": [
    {
     "name": "stdout",
     "output_type": "stream",
     "text": [
      " Patna\n"
     ]
    }
   ],
   "source": [
    "my_address = place()\n",
    "print(my_address.city)\n"
   ]
  },
  {
   "cell_type": "markdown",
   "id": "96320d2e-5845-4908-a6f4-e2b78ad2c865",
   "metadata": {},
   "source": [
    "## Question 2"
   ]
  },
  {
   "cell_type": "markdown",
   "id": "7f3dc95c-3676-49b5-9b30-ac22807dbf91",
   "metadata": {},
   "source": [
    "the four pillars of OOPs are Abstraction, encapsulation, inheritance, and polymorphism."
   ]
  },
  {
   "cell_type": "markdown",
   "id": "92edeeeb-997e-4c63-ad1a-1c3a623ef65d",
   "metadata": {},
   "source": [
    "## Question 3"
   ]
  },
  {
   "cell_type": "markdown",
   "id": "cb5b4569-f728-42df-98a4-ca68bb87f5a6",
   "metadata": {},
   "source": [
    "The  \"__init__\"  method in Python is used to initialize objects of a class. It acts as a constructor and assigns values to the data members when an object is created. Here’s an example:"
   ]
  },
  {
   "cell_type": "code",
   "execution_count": 4,
   "id": "2fee305e-5ec9-414a-92d1-b1710928b331",
   "metadata": {},
   "outputs": [],
   "source": [
    "class pwskills:\n",
    "    \n",
    "    def welcome_msg(self):\n",
    "        print(\"welcome to pwskills\")"
   ]
  },
  {
   "cell_type": "code",
   "execution_count": 9,
   "id": "a9d10bca-2946-4adc-a191-8861e5231e3e",
   "metadata": {},
   "outputs": [],
   "source": [
    "rohan = pwskills()"
   ]
  },
  {
   "cell_type": "code",
   "execution_count": 10,
   "id": "7cd3e039-0d1d-48e6-a4a3-7c7e8c18ad0b",
   "metadata": {},
   "outputs": [],
   "source": [
    "gaurav = pwskills()"
   ]
  },
  {
   "cell_type": "code",
   "execution_count": 11,
   "id": "0981bde7-d060-4ff4-96ca-aa23393c4f2e",
   "metadata": {},
   "outputs": [
    {
     "name": "stdout",
     "output_type": "stream",
     "text": [
      "welcome to pwskills\n"
     ]
    }
   ],
   "source": [
    "rohan.welcome_msg()"
   ]
  },
  {
   "cell_type": "code",
   "execution_count": 12,
   "id": "1d983588-2c5e-4d5b-a9e6-5e626b695a5c",
   "metadata": {},
   "outputs": [
    {
     "name": "stdout",
     "output_type": "stream",
     "text": [
      "welcome to pwskills\n"
     ]
    }
   ],
   "source": [
    "gaurav.welcome_msg()"
   ]
  },
  {
   "cell_type": "markdown",
   "id": "d988b663-0265-4830-9146-9e3578937e6e",
   "metadata": {},
   "source": [
    "## Question 4 "
   ]
  },
  {
   "cell_type": "markdown",
   "id": "cd013321-7f83-48e7-a38a-125fb6367e15",
   "metadata": {},
   "source": [
    "\"self\" allows access to the attributes and methods of each object in python. This allows each object to have its own attributes and methods. Thus, even long before creating these objects, we reference the objects as self while defining the class."
   ]
  },
  {
   "cell_type": "code",
   "execution_count": 14,
   "id": "f6903914-a43a-470c-8524-94a266170aef",
   "metadata": {},
   "outputs": [],
   "source": [
    "class st_detail:\n",
    "    def __init__(self, name, age):\n",
    "        self.name = name\n",
    "        self.age = age\n",
    "\n",
    "    def info(self):\n",
    "        print(f\"I am a new student . My name is {self.name}. I am {self.age} years old.\")\n",
    "\n",
    "    def say_something(self):\n",
    "        print(\"hello every one , lets work together.\")"
   ]
  },
  {
   "cell_type": "code",
   "execution_count": 15,
   "id": "f8ba113f-f74e-43e6-a7d6-1e73d2b058f4",
   "metadata": {},
   "outputs": [],
   "source": [
    "stud1 = st_detail('Andy', 12)\n",
    "stud2 = st_detail('hari', 13)"
   ]
  },
  {
   "cell_type": "code",
   "execution_count": 16,
   "id": "05c0d4c3-fd33-489c-87d9-d716080e185c",
   "metadata": {},
   "outputs": [
    {
     "name": "stdout",
     "output_type": "stream",
     "text": [
      "I am a new student . My name is Andy. I am 12 years old.\n"
     ]
    }
   ],
   "source": [
    "stud1.info()"
   ]
  },
  {
   "cell_type": "code",
   "execution_count": 17,
   "id": "ff6094e5-dca8-49fe-a5bf-f56aac759ec5",
   "metadata": {},
   "outputs": [
    {
     "name": "stdout",
     "output_type": "stream",
     "text": [
      "I am a new student . My name is hari. I am 13 years old.\n"
     ]
    }
   ],
   "source": [
    "stud2.info()"
   ]
  },
  {
   "cell_type": "markdown",
   "id": "2ceb2615-51d2-4ba9-9c52-dd952ec905a3",
   "metadata": {},
   "source": [
    "## Question 5"
   ]
  },
  {
   "cell_type": "markdown",
   "id": "d5761013-4052-439e-a2c5-345bd340f0d1",
   "metadata": {},
   "source": [
    "Inheritance is defined as the mechanism of inheriting the properties of the base class to the child class. Here the  example for each type of inheritance."
   ]
  },
  {
   "cell_type": "markdown",
   "id": "fdbf2c22-f053-4252-80e2-ccfad54bfc05",
   "metadata": {},
   "source": [
    "single inheritance example"
   ]
  },
  {
   "cell_type": "code",
   "execution_count": 34,
   "id": "eb0c641d-b3f9-462c-9d6d-051794c32e51",
   "metadata": {},
   "outputs": [],
   "source": [
    "class test :\n",
    "    \n",
    "    def test_meth(self):\n",
    "        return \"this is my first class\""
   ]
  },
  {
   "cell_type": "code",
   "execution_count": 35,
   "id": "750ec914-bdb1-431c-b296-e0cb776c5803",
   "metadata": {},
   "outputs": [],
   "source": [
    "class child_test(test):\n",
    "    pass"
   ]
  },
  {
   "cell_type": "code",
   "execution_count": 36,
   "id": "64dd8c92-6c9a-4fa0-8567-9a238f589b96",
   "metadata": {},
   "outputs": [],
   "source": [
    "child_test_obj = child_test()"
   ]
  },
  {
   "cell_type": "code",
   "execution_count": 37,
   "id": "f39d0867-3ad2-444b-8bab-494beaad6629",
   "metadata": {},
   "outputs": [
    {
     "data": {
      "text/plain": [
       "'this is my first class'"
      ]
     },
     "execution_count": 37,
     "metadata": {},
     "output_type": "execute_result"
    }
   ],
   "source": [
    "child_test_obj.test_meth()"
   ]
  },
  {
   "cell_type": "code",
   "execution_count": null,
   "id": "5f093b4b-e633-4b6e-984b-e56faf0b14e3",
   "metadata": {},
   "outputs": [],
   "source": [
    "multilevel inheritance example"
   ]
  },
  {
   "cell_type": "code",
   "execution_count": 22,
   "id": "4d6efd2f-6daf-4c33-9858-00edc5850943",
   "metadata": {},
   "outputs": [],
   "source": [
    "class class1:\n",
    "    def test_class1(self):\n",
    "        return \"this is a meth from class1\""
   ]
  },
  {
   "cell_type": "code",
   "execution_count": 23,
   "id": "cd4a7089-4188-4e15-92e6-b00a543ce82d",
   "metadata": {},
   "outputs": [],
   "source": [
    "class class2(class1):\n",
    "    def test_class2(self):\n",
    "        return \"this is a meth from class2\""
   ]
  },
  {
   "cell_type": "code",
   "execution_count": 24,
   "id": "6a6ec1ca-07a4-4b3d-b81a-09fc1b3e8d2c",
   "metadata": {},
   "outputs": [],
   "source": [
    "class class3(class2):\n",
    "    pass"
   ]
  },
  {
   "cell_type": "code",
   "execution_count": 25,
   "id": "8bfce3b7-8daa-4c18-b4a4-8b90ebe7b5a5",
   "metadata": {},
   "outputs": [],
   "source": [
    "obj_class3 = class3()"
   ]
  },
  {
   "cell_type": "code",
   "execution_count": 26,
   "id": "11de2c0b-94f7-433f-b7e6-949ac9bc29bb",
   "metadata": {},
   "outputs": [
    {
     "data": {
      "text/plain": [
       "'this is a meth from class1'"
      ]
     },
     "execution_count": 26,
     "metadata": {},
     "output_type": "execute_result"
    }
   ],
   "source": [
    "obj_class3.test_class1()"
   ]
  },
  {
   "cell_type": "code",
   "execution_count": 27,
   "id": "a77d5289-0b76-4e46-adff-4102f273255f",
   "metadata": {},
   "outputs": [
    {
     "data": {
      "text/plain": [
       "'this is a meth from class2'"
      ]
     },
     "execution_count": 27,
     "metadata": {},
     "output_type": "execute_result"
    }
   ],
   "source": [
    "obj_class3.test_class2()"
   ]
  },
  {
   "cell_type": "code",
   "execution_count": null,
   "id": "cfe9a68d-a570-4422-919c-bbfed6896421",
   "metadata": {},
   "outputs": [],
   "source": []
  },
  {
   "cell_type": "code",
   "execution_count": 28,
   "id": "1515bba5-07f9-429c-be52-d40fec9ae09f",
   "metadata": {},
   "outputs": [],
   "source": [
    "class class1:\n",
    "    \n",
    "    def test_class1(self):\n",
    "        return \"this is a class1\""
   ]
  },
  {
   "cell_type": "code",
   "execution_count": 29,
   "id": "0e97090e-7031-4638-951a-33f36c90c9fd",
   "metadata": {},
   "outputs": [],
   "source": [
    "class class2:\n",
    "    \n",
    "    def test_class2(self):\n",
    "        return \" this is class2\"\n",
    "    "
   ]
  },
  {
   "cell_type": "code",
   "execution_count": 30,
   "id": "9ed7e4ba-073e-4227-8103-9d6b8b16674e",
   "metadata": {},
   "outputs": [],
   "source": [
    "class class3(class1, class2):\n",
    "    pass"
   ]
  },
  {
   "cell_type": "code",
   "execution_count": 31,
   "id": "44389ac7-c7ec-44ef-a591-7a1d53c48887",
   "metadata": {},
   "outputs": [],
   "source": [
    "obj_class3=class3()"
   ]
  },
  {
   "cell_type": "code",
   "execution_count": 32,
   "id": "eb8cdd90-878c-4193-8675-2ff06a7ebf21",
   "metadata": {},
   "outputs": [
    {
     "data": {
      "text/plain": [
       "'this is a class1'"
      ]
     },
     "execution_count": 32,
     "metadata": {},
     "output_type": "execute_result"
    }
   ],
   "source": [
    "obj_class3.test_class1()"
   ]
  },
  {
   "cell_type": "code",
   "execution_count": 33,
   "id": "1d470a49-2004-4d19-a33e-c493862c4a00",
   "metadata": {},
   "outputs": [
    {
     "data": {
      "text/plain": [
       "' this is class2'"
      ]
     },
     "execution_count": 33,
     "metadata": {},
     "output_type": "execute_result"
    }
   ],
   "source": [
    "obj_class3.test_class2()"
   ]
  },
  {
   "cell_type": "code",
   "execution_count": null,
   "id": "636eb486-2ebe-45e5-a369-a4b28d451c19",
   "metadata": {},
   "outputs": [],
   "source": []
  }
 ],
 "metadata": {
  "kernelspec": {
   "display_name": "Python 3 (ipykernel)",
   "language": "python",
   "name": "python3"
  },
  "language_info": {
   "codemirror_mode": {
    "name": "ipython",
    "version": 3
   },
   "file_extension": ".py",
   "mimetype": "text/x-python",
   "name": "python",
   "nbconvert_exporter": "python",
   "pygments_lexer": "ipython3",
   "version": "3.10.8"
  }
 },
 "nbformat": 4,
 "nbformat_minor": 5
}

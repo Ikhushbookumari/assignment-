{
 "cells": [
  {
   "cell_type": "markdown",
   "id": "15ea8269-c062-489b-a3b6-e4076937f5eb",
   "metadata": {},
   "source": [
    "## Question 1"
   ]
  },
  {
   "cell_type": "markdown",
   "id": "530dab0b-3fd3-4258-a61a-271ee3883d28",
   "metadata": {},
   "source": [
    "\"def\" keyword is use to create a function."
   ]
  },
  {
   "cell_type": "code",
   "execution_count": 18,
   "id": "41102781-392d-4c98-92dc-1ff0315109a1",
   "metadata": {},
   "outputs": [],
   "source": [
    "def odd(n):\n",
    "    l1=[]\n",
    "    for i in range(n):\n",
    "        if i%2 !=0:\n",
    "            l1.append(i)\n",
    "    return l1"
   ]
  },
  {
   "cell_type": "code",
   "execution_count": 19,
   "id": "164a12c9-55b5-49c6-b88a-2a26a751879b",
   "metadata": {},
   "outputs": [
    {
     "data": {
      "text/plain": [
       "[1, 3, 5, 7, 9, 11, 13, 15, 17, 19, 21, 23]"
      ]
     },
     "execution_count": 19,
     "metadata": {},
     "output_type": "execute_result"
    }
   ],
   "source": [
    "odd(25)"
   ]
  },
  {
   "cell_type": "code",
   "execution_count": null,
   "id": "20c2c032-8525-4537-9ded-41babfddba3d",
   "metadata": {},
   "outputs": [],
   "source": []
  },
  {
   "cell_type": "markdown",
   "id": "6b3c8ade-5ff5-462c-b51e-cdd6a7773138",
   "metadata": {},
   "source": [
    "## Question 2"
   ]
  },
  {
   "cell_type": "markdown",
   "id": "98295a3a-0169-4e80-8499-06c47ece3da0",
   "metadata": {},
   "source": [
    "'*args' use to enter n  nummber of argument in the function.\n",
    "'**kargs' use to enter n number of argument in the function but in pair of key and values."
   ]
  },
  {
   "cell_type": "code",
   "execution_count": 20,
   "id": "13ad9660-a8b3-4761-b34f-bc0531bd990a",
   "metadata": {},
   "outputs": [],
   "source": [
    "def test1(*args):\n",
    "    return args"
   ]
  },
  {
   "cell_type": "code",
   "execution_count": 21,
   "id": "802dc73d-f120-46a6-9381-bd5a7a0204f2",
   "metadata": {},
   "outputs": [
    {
     "data": {
      "text/plain": [
       "(1, 2, 3, 4, 5, 'pwskills')"
      ]
     },
     "execution_count": 21,
     "metadata": {},
     "output_type": "execute_result"
    }
   ],
   "source": [
    "test1(1,2,3,4,5,\"pwskills\")"
   ]
  },
  {
   "cell_type": "code",
   "execution_count": 22,
   "id": "15ca1d4a-4be4-4436-bf70-0f8b1e41f372",
   "metadata": {},
   "outputs": [],
   "source": [
    "def test2(**kargs):\n",
    "    return kargs"
   ]
  },
  {
   "cell_type": "code",
   "execution_count": 26,
   "id": "91a71a0b-ebac-4a28-807f-59c1f6c4d04b",
   "metadata": {},
   "outputs": [
    {
     "data": {
      "text/plain": [
       "{'name': 'khushboo', 'study': 'pwskills'}"
      ]
     },
     "execution_count": 26,
     "metadata": {},
     "output_type": "execute_result"
    }
   ],
   "source": [
    "test2(name='khushboo',study='pwskills')"
   ]
  },
  {
   "cell_type": "code",
   "execution_count": null,
   "id": "d67c9dfe-874d-40ce-95d8-d42ecacf824b",
   "metadata": {},
   "outputs": [],
   "source": []
  },
  {
   "cell_type": "markdown",
   "id": "abcba485-5797-41e8-990b-ef32342b005e",
   "metadata": {},
   "source": [
    "## Question 3"
   ]
  },
  {
   "cell_type": "markdown",
   "id": "b1dd575f-93bb-4808-a5df-f8e1bc5a9e88",
   "metadata": {},
   "source": [
    "iterator is an object in python which anable to access the element of a container one at a time like list,string, tuple,etc. and work with next()."
   ]
  },
  {
   "cell_type": "markdown",
   "id": "6b599028-b4b8-4c87-87a3-9dab3c3efadc",
   "metadata": {},
   "source": [
    "'itr()' return the iterator object or convert iterable object into iteration object."
   ]
  },
  {
   "cell_type": "markdown",
   "id": "d99af4f2-9ed1-46b8-8118-9294fca618c2",
   "metadata": {},
   "source": [
    "'next()' is use to find the next element in iterators object . it return the next element"
   ]
  },
  {
   "cell_type": "code",
   "execution_count": 40,
   "id": "1d816d45-c87e-4b9b-b422-ff061079fba3",
   "metadata": {},
   "outputs": [],
   "source": [
    "l=[2,4,6,8,10,12,14,16,18,20]"
   ]
  },
  {
   "cell_type": "code",
   "execution_count": 41,
   "id": "deeae6f1-87c9-40e8-9299-e4281f84957c",
   "metadata": {},
   "outputs": [],
   "source": [
    "t=iter(l)"
   ]
  },
  {
   "cell_type": "code",
   "execution_count": 42,
   "id": "7a52b843-71ba-4cbc-af9b-f84ed7ee251d",
   "metadata": {},
   "outputs": [
    {
     "name": "stdout",
     "output_type": "stream",
     "text": [
      "2\n",
      "4\n",
      "6\n",
      "8\n",
      "10\n"
     ]
    }
   ],
   "source": [
    "for i in range(5):\n",
    "    print(next(t))"
   ]
  },
  {
   "cell_type": "code",
   "execution_count": null,
   "id": "ee38b54b-4b46-4a11-9b25-c182f2a2f4bc",
   "metadata": {},
   "outputs": [],
   "source": []
  },
  {
   "cell_type": "markdown",
   "id": "7f3ef273-17f6-4e59-9969-80c4a3e8118a",
   "metadata": {},
   "source": [
    "## Question 4"
   ]
  },
  {
   "cell_type": "markdown",
   "id": "899c09d2-1edb-4188-b8fc-fa683e4e986f",
   "metadata": {},
   "source": [
    "those function use 'yield' key word in place of 'return' are the generator function. it return one output at one time not store all output and then retun due to this is use less memory.and by the help of next() it continue the process again by taking next value."
   ]
  },
  {
   "cell_type": "code",
   "execution_count": 58,
   "id": "3aba200b-594f-40d2-b709-f8bc1c714d54",
   "metadata": {},
   "outputs": [],
   "source": [
    "def test4():\n",
    "    a,b=0,1\n",
    "    while True:\n",
    "        yield a\n",
    "        a,b=b,a+b"
   ]
  },
  {
   "cell_type": "code",
   "execution_count": 59,
   "id": "86478e52-65db-4e1c-a4a1-cc6cba86e8d1",
   "metadata": {},
   "outputs": [],
   "source": [
    "fib=test4()"
   ]
  },
  {
   "cell_type": "code",
   "execution_count": 60,
   "id": "3bcc8712-3dd1-4c6e-b536-6587e3f287ab",
   "metadata": {},
   "outputs": [
    {
     "name": "stdout",
     "output_type": "stream",
     "text": [
      "0\n",
      "1\n",
      "1\n",
      "2\n",
      "3\n",
      "5\n",
      "8\n",
      "13\n",
      "21\n",
      "34\n",
      "55\n",
      "89\n",
      "144\n",
      "233\n",
      "377\n"
     ]
    }
   ],
   "source": [
    "for i in range(15):\n",
    "    print(next(fib))"
   ]
  },
  {
   "cell_type": "code",
   "execution_count": null,
   "id": "5b51ab20-7d55-4211-a66d-eac4b2549fa2",
   "metadata": {},
   "outputs": [],
   "source": []
  },
  {
   "cell_type": "markdown",
   "id": "c5d23b30-1dc9-4596-a440-05cedadc83d8",
   "metadata": {},
   "source": [
    "## Question 5"
   ]
  },
  {
   "cell_type": "code",
   "execution_count": 1,
   "id": "a62c55b9-5327-4e1f-a9f2-8827cafb5c1c",
   "metadata": {},
   "outputs": [],
   "source": [
    "def prime_number_generator():\n",
    "    num = 2\n",
    "    while True:\n",
    "        if is_prime(num):\n",
    "            yield num\n",
    "        num=num+1\n",
    "\n",
    "        "
   ]
  },
  {
   "cell_type": "code",
   "execution_count": 2,
   "id": "3f5bb05a-cc23-42f6-833c-f0e3e2e98e59",
   "metadata": {},
   "outputs": [],
   "source": [
    "def is_prime(n):\n",
    "        if n<2:\n",
    "            return False\n",
    "        for i in range(2,int(n**0.5)+1):\n",
    "            if n % i == 0:\n",
    "                return False\n",
    "        return True"
   ]
  },
  {
   "cell_type": "code",
   "execution_count": 3,
   "id": "4f24fbaa-4ae4-4776-a7a5-c88118e4221c",
   "metadata": {},
   "outputs": [
    {
     "data": {
      "text/plain": [
       "[2, 3, 5, 7, 11, 13, 17, 19, 23, 29]"
      ]
     },
     "execution_count": 3,
     "metadata": {},
     "output_type": "execute_result"
    }
   ],
   "source": [
    "prime_gen= prime_number_generator()\n",
    "[next(prime_gen)for _ in range(10)]"
   ]
  },
  {
   "cell_type": "markdown",
   "id": "1a6ce299-001a-4a56-a31b-f11cb4d3472c",
   "metadata": {},
   "source": [
    "## Question 6"
   ]
  },
  {
   "cell_type": "code",
   "execution_count": 63,
   "id": "257b57c2-1394-4272-b952-a8188f0f4c33",
   "metadata": {},
   "outputs": [],
   "source": [
    "def test6():\n",
    "    a,b=1,2\n",
    "    while True:\n",
    "        yield a\n",
    "        a,b=b,a+b"
   ]
  },
  {
   "cell_type": "code",
   "execution_count": 64,
   "id": "f614f70f-fcfd-4f53-9baf-414a89480bc7",
   "metadata": {},
   "outputs": [],
   "source": [
    "fb=test6()"
   ]
  },
  {
   "cell_type": "code",
   "execution_count": 65,
   "id": "1ff4a3da-2ffd-402b-b137-96583a854ad0",
   "metadata": {},
   "outputs": [
    {
     "name": "stdout",
     "output_type": "stream",
     "text": [
      "1\n",
      "2\n",
      "3\n",
      "5\n",
      "8\n",
      "13\n",
      "21\n",
      "34\n",
      "55\n",
      "89\n"
     ]
    }
   ],
   "source": [
    "for i in range(10):\n",
    "    print(next(fb))"
   ]
  },
  {
   "cell_type": "code",
   "execution_count": null,
   "id": "f97978f4-575d-4594-a282-8dd4af5ac052",
   "metadata": {},
   "outputs": [],
   "source": []
  },
  {
   "cell_type": "markdown",
   "id": "b76ca85c-d5ae-4e96-8b1e-86d2cbeaee20",
   "metadata": {},
   "source": [
    "## Question 7"
   ]
  },
  {
   "cell_type": "code",
   "execution_count": 75,
   "id": "fe75d9b2-08aa-4f48-a0cc-cfcd85cbf999",
   "metadata": {},
   "outputs": [
    {
     "data": {
      "text/plain": [
       "['p', 'w', 's', 'i', 'l', 'l', 's']"
      ]
     },
     "execution_count": 75,
     "metadata": {},
     "output_type": "execute_result"
    }
   ],
   "source": [
    "s=\"pwsills\"\n",
    "list(map(lambda s : s.lower(),s))"
   ]
  },
  {
   "cell_type": "code",
   "execution_count": null,
   "id": "97e7c7ea-c705-4b1a-bb54-3ce7d6fe7a3b",
   "metadata": {},
   "outputs": [],
   "source": []
  },
  {
   "cell_type": "markdown",
   "id": "119ab581-8a35-4b0d-86b9-6732d577477b",
   "metadata": {},
   "source": [
    "## Question 8"
   ]
  },
  {
   "cell_type": "code",
   "execution_count": null,
   "id": "887a4747-3680-425f-9896-64b78e905e36",
   "metadata": {},
   "outputs": [],
   "source": []
  },
  {
   "cell_type": "code",
   "execution_count": null,
   "id": "7dbdbbba-5304-43a9-8bf0-e1bf9924d9dc",
   "metadata": {},
   "outputs": [],
   "source": [
    "def is_palindrome_iterative(num):\n",
    "    original_num = num\n",
    "    reverse_num = 0\n",
    "    \n",
    "    while num > 0:\n",
    "        digit = num % 10\n",
    "        reverse_num = (reverse_num * 10) + digit\n",
    "        num //= 10\n",
    "    \n",
    "    return original_num == reverse_nuber\n",
    "\n"
   ]
  },
  {
   "cell_type": "code",
   "execution_count": null,
   "id": "74adaba5-1a1d-4417-a85f-f2eae377b666",
   "metadata": {},
   "outputs": [],
   "source": [
    "number = 12345\n",
    "\n",
    "if is_palindrome_iterative(number)==True:\n",
    "    print(f\"{number} is a palindrome.\")\n",
    "else:\n",
    "    print(f\"{number} is not a palindrome.\")\n"
   ]
  },
  {
   "cell_type": "markdown",
   "id": "d208aaee-4edb-48f5-a481-05e9bb1bf267",
   "metadata": {},
   "source": [
    "## Question 9"
   ]
  },
  {
   "cell_type": "code",
   "execution_count": 81,
   "id": "6c688540-a0a8-4f19-a241-c732ba194933",
   "metadata": {},
   "outputs": [],
   "source": [
    "a=list(range(100))"
   ]
  },
  {
   "cell_type": "code",
   "execution_count": 85,
   "id": "25497d57-d768-4814-b701-2e4d99031f28",
   "metadata": {},
   "outputs": [],
   "source": [
    "def prim(l):\n",
    "    l3=[]\n",
    "    for i in l:\n",
    "        if i%2!=0:\n",
    "            l3.append(i)\n",
    "            \n",
    "    return l3"
   ]
  },
  {
   "cell_type": "code",
   "execution_count": 86,
   "id": "e3a1f66d-f7ca-4c6e-a269-8ff45894d306",
   "metadata": {},
   "outputs": [
    {
     "data": {
      "text/plain": [
       "[1,\n",
       " 3,\n",
       " 5,\n",
       " 7,\n",
       " 9,\n",
       " 11,\n",
       " 13,\n",
       " 15,\n",
       " 17,\n",
       " 19,\n",
       " 21,\n",
       " 23,\n",
       " 25,\n",
       " 27,\n",
       " 29,\n",
       " 31,\n",
       " 33,\n",
       " 35,\n",
       " 37,\n",
       " 39,\n",
       " 41,\n",
       " 43,\n",
       " 45,\n",
       " 47,\n",
       " 49,\n",
       " 51,\n",
       " 53,\n",
       " 55,\n",
       " 57,\n",
       " 59,\n",
       " 61,\n",
       " 63,\n",
       " 65,\n",
       " 67,\n",
       " 69,\n",
       " 71,\n",
       " 73,\n",
       " 75,\n",
       " 77,\n",
       " 79,\n",
       " 81,\n",
       " 83,\n",
       " 85,\n",
       " 87,\n",
       " 89,\n",
       " 91,\n",
       " 93,\n",
       " 95,\n",
       " 97,\n",
       " 99]"
      ]
     },
     "execution_count": 86,
     "metadata": {},
     "output_type": "execute_result"
    }
   ],
   "source": [
    "prim(a)"
   ]
  },
  {
   "cell_type": "code",
   "execution_count": null,
   "id": "66f76d1c-263e-433b-b793-14b728742b8d",
   "metadata": {},
   "outputs": [],
   "source": []
  }
 ],
 "metadata": {
  "kernelspec": {
   "display_name": "Python 3 (ipykernel)",
   "language": "python",
   "name": "python3"
  },
  "language_info": {
   "codemirror_mode": {
    "name": "ipython",
    "version": 3
   },
   "file_extension": ".py",
   "mimetype": "text/x-python",
   "name": "python",
   "nbconvert_exporter": "python",
   "pygments_lexer": "ipython3",
   "version": "3.10.8"
  }
 },
 "nbformat": 4,
 "nbformat_minor": 5
}
